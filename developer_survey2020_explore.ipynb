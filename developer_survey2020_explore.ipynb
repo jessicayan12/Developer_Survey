{
 "cells": [
  {
   "cell_type": "markdown",
   "metadata": {},
   "source": [
    "### Developer Survey 2020 Explore\n",
    "\n",
    "Now you have had a closer look at the data, and you saw how I approached looking at how the survey respondents think you should break into the field.  Let's recreate those results, as well as take a look at another question."
   ]
  },
  {
   "cell_type": "code",
   "execution_count": 2,
   "metadata": {},
   "outputs": [
    {
     "data": {
      "text/html": [
       "<div>\n",
       "<style>\n",
       "    .dataframe thead tr:only-child th {\n",
       "        text-align: right;\n",
       "    }\n",
       "\n",
       "    .dataframe thead th {\n",
       "        text-align: left;\n",
       "    }\n",
       "\n",
       "    .dataframe tbody tr th {\n",
       "        vertical-align: top;\n",
       "    }\n",
       "</style>\n",
       "<table border=\"1\" class=\"dataframe\">\n",
       "  <thead>\n",
       "    <tr style=\"text-align: right;\">\n",
       "      <th></th>\n",
       "      <th>Respondent</th>\n",
       "      <th>MainBranch</th>\n",
       "      <th>Hobbyist</th>\n",
       "      <th>Age</th>\n",
       "      <th>Age1stCode</th>\n",
       "      <th>CompFreq</th>\n",
       "      <th>CompTotal</th>\n",
       "      <th>ConvertedComp</th>\n",
       "      <th>Country</th>\n",
       "      <th>CurrencyDesc</th>\n",
       "      <th>...</th>\n",
       "      <th>SurveyEase</th>\n",
       "      <th>SurveyLength</th>\n",
       "      <th>Trans</th>\n",
       "      <th>UndergradMajor</th>\n",
       "      <th>WebframeDesireNextYear</th>\n",
       "      <th>WebframeWorkedWith</th>\n",
       "      <th>WelcomeChange</th>\n",
       "      <th>WorkWeekHrs</th>\n",
       "      <th>YearsCode</th>\n",
       "      <th>YearsCodePro</th>\n",
       "    </tr>\n",
       "  </thead>\n",
       "  <tbody>\n",
       "    <tr>\n",
       "      <th>0</th>\n",
       "      <td>1</td>\n",
       "      <td>I am a developer by profession</td>\n",
       "      <td>Yes</td>\n",
       "      <td>NaN</td>\n",
       "      <td>13</td>\n",
       "      <td>Monthly</td>\n",
       "      <td>NaN</td>\n",
       "      <td>NaN</td>\n",
       "      <td>Germany</td>\n",
       "      <td>European Euro</td>\n",
       "      <td>...</td>\n",
       "      <td>Neither easy nor difficult</td>\n",
       "      <td>Appropriate in length</td>\n",
       "      <td>No</td>\n",
       "      <td>Computer science, computer engineering, or sof...</td>\n",
       "      <td>ASP.NET Core</td>\n",
       "      <td>ASP.NET;ASP.NET Core</td>\n",
       "      <td>Just as welcome now as I felt last year</td>\n",
       "      <td>50.0</td>\n",
       "      <td>36</td>\n",
       "      <td>27</td>\n",
       "    </tr>\n",
       "    <tr>\n",
       "      <th>1</th>\n",
       "      <td>2</td>\n",
       "      <td>I am a developer by profession</td>\n",
       "      <td>No</td>\n",
       "      <td>NaN</td>\n",
       "      <td>19</td>\n",
       "      <td>NaN</td>\n",
       "      <td>NaN</td>\n",
       "      <td>NaN</td>\n",
       "      <td>United Kingdom</td>\n",
       "      <td>Pound sterling</td>\n",
       "      <td>...</td>\n",
       "      <td>NaN</td>\n",
       "      <td>NaN</td>\n",
       "      <td>NaN</td>\n",
       "      <td>Computer science, computer engineering, or sof...</td>\n",
       "      <td>NaN</td>\n",
       "      <td>NaN</td>\n",
       "      <td>Somewhat more welcome now than last year</td>\n",
       "      <td>NaN</td>\n",
       "      <td>7</td>\n",
       "      <td>4</td>\n",
       "    </tr>\n",
       "    <tr>\n",
       "      <th>2</th>\n",
       "      <td>3</td>\n",
       "      <td>I code primarily as a hobby</td>\n",
       "      <td>Yes</td>\n",
       "      <td>NaN</td>\n",
       "      <td>15</td>\n",
       "      <td>NaN</td>\n",
       "      <td>NaN</td>\n",
       "      <td>NaN</td>\n",
       "      <td>Russian Federation</td>\n",
       "      <td>NaN</td>\n",
       "      <td>...</td>\n",
       "      <td>Neither easy nor difficult</td>\n",
       "      <td>Appropriate in length</td>\n",
       "      <td>NaN</td>\n",
       "      <td>NaN</td>\n",
       "      <td>NaN</td>\n",
       "      <td>NaN</td>\n",
       "      <td>Somewhat more welcome now than last year</td>\n",
       "      <td>NaN</td>\n",
       "      <td>4</td>\n",
       "      <td>NaN</td>\n",
       "    </tr>\n",
       "    <tr>\n",
       "      <th>3</th>\n",
       "      <td>4</td>\n",
       "      <td>I am a developer by profession</td>\n",
       "      <td>Yes</td>\n",
       "      <td>25.0</td>\n",
       "      <td>18</td>\n",
       "      <td>NaN</td>\n",
       "      <td>NaN</td>\n",
       "      <td>NaN</td>\n",
       "      <td>Albania</td>\n",
       "      <td>Albanian lek</td>\n",
       "      <td>...</td>\n",
       "      <td>NaN</td>\n",
       "      <td>NaN</td>\n",
       "      <td>No</td>\n",
       "      <td>Computer science, computer engineering, or sof...</td>\n",
       "      <td>NaN</td>\n",
       "      <td>NaN</td>\n",
       "      <td>Somewhat less welcome now than last year</td>\n",
       "      <td>40.0</td>\n",
       "      <td>7</td>\n",
       "      <td>4</td>\n",
       "    </tr>\n",
       "    <tr>\n",
       "      <th>4</th>\n",
       "      <td>5</td>\n",
       "      <td>I used to be a developer by profession, but no...</td>\n",
       "      <td>Yes</td>\n",
       "      <td>31.0</td>\n",
       "      <td>16</td>\n",
       "      <td>NaN</td>\n",
       "      <td>NaN</td>\n",
       "      <td>NaN</td>\n",
       "      <td>United States</td>\n",
       "      <td>NaN</td>\n",
       "      <td>...</td>\n",
       "      <td>Easy</td>\n",
       "      <td>Too short</td>\n",
       "      <td>No</td>\n",
       "      <td>Computer science, computer engineering, or sof...</td>\n",
       "      <td>Django;Ruby on Rails</td>\n",
       "      <td>Ruby on Rails</td>\n",
       "      <td>Just as welcome now as I felt last year</td>\n",
       "      <td>NaN</td>\n",
       "      <td>15</td>\n",
       "      <td>8</td>\n",
       "    </tr>\n",
       "  </tbody>\n",
       "</table>\n",
       "<p>5 rows × 61 columns</p>\n",
       "</div>"
      ],
      "text/plain": [
       "   Respondent                                         MainBranch Hobbyist  \\\n",
       "0           1                     I am a developer by profession      Yes   \n",
       "1           2                     I am a developer by profession       No   \n",
       "2           3                        I code primarily as a hobby      Yes   \n",
       "3           4                     I am a developer by profession      Yes   \n",
       "4           5  I used to be a developer by profession, but no...      Yes   \n",
       "\n",
       "    Age Age1stCode CompFreq  CompTotal  ConvertedComp             Country  \\\n",
       "0   NaN         13  Monthly        NaN            NaN             Germany   \n",
       "1   NaN         19      NaN        NaN            NaN      United Kingdom   \n",
       "2   NaN         15      NaN        NaN            NaN  Russian Federation   \n",
       "3  25.0         18      NaN        NaN            NaN             Albania   \n",
       "4  31.0         16      NaN        NaN            NaN       United States   \n",
       "\n",
       "     CurrencyDesc     ...                       SurveyEase  \\\n",
       "0   European Euro     ...       Neither easy nor difficult   \n",
       "1  Pound sterling     ...                              NaN   \n",
       "2             NaN     ...       Neither easy nor difficult   \n",
       "3    Albanian lek     ...                              NaN   \n",
       "4             NaN     ...                             Easy   \n",
       "\n",
       "            SurveyLength Trans  \\\n",
       "0  Appropriate in length    No   \n",
       "1                    NaN   NaN   \n",
       "2  Appropriate in length   NaN   \n",
       "3                    NaN    No   \n",
       "4              Too short    No   \n",
       "\n",
       "                                      UndergradMajor WebframeDesireNextYear  \\\n",
       "0  Computer science, computer engineering, or sof...           ASP.NET Core   \n",
       "1  Computer science, computer engineering, or sof...                    NaN   \n",
       "2                                                NaN                    NaN   \n",
       "3  Computer science, computer engineering, or sof...                    NaN   \n",
       "4  Computer science, computer engineering, or sof...   Django;Ruby on Rails   \n",
       "\n",
       "     WebframeWorkedWith                             WelcomeChange WorkWeekHrs  \\\n",
       "0  ASP.NET;ASP.NET Core   Just as welcome now as I felt last year        50.0   \n",
       "1                   NaN  Somewhat more welcome now than last year         NaN   \n",
       "2                   NaN  Somewhat more welcome now than last year         NaN   \n",
       "3                   NaN  Somewhat less welcome now than last year        40.0   \n",
       "4         Ruby on Rails   Just as welcome now as I felt last year         NaN   \n",
       "\n",
       "  YearsCode YearsCodePro  \n",
       "0        36           27  \n",
       "1         7            4  \n",
       "2         4          NaN  \n",
       "3         7            4  \n",
       "4        15            8  \n",
       "\n",
       "[5 rows x 61 columns]"
      ]
     },
     "execution_count": 2,
     "metadata": {},
     "output_type": "execute_result"
    }
   ],
   "source": [
    "import numpy as np\n",
    "import pandas as pd\n",
    "import matplotlib.pyplot as plt\n",
    "import seaborn as sns\n",
    "%matplotlib inline\n",
    "\n",
    "df = pd.read_csv('./survey_results_public2020.csv')\n",
    "schema = pd.read_csv('./survey_results_schema2020.csv')\n",
    "df.head()"
   ]
  },
  {
   "cell_type": "code",
   "execution_count": 3,
   "metadata": {},
   "outputs": [
    {
     "data": {
      "text/html": [
       "<div>\n",
       "<style>\n",
       "    .dataframe thead tr:only-child th {\n",
       "        text-align: right;\n",
       "    }\n",
       "\n",
       "    .dataframe thead th {\n",
       "        text-align: left;\n",
       "    }\n",
       "\n",
       "    .dataframe tbody tr th {\n",
       "        vertical-align: top;\n",
       "    }\n",
       "</style>\n",
       "<table border=\"1\" class=\"dataframe\">\n",
       "  <thead>\n",
       "    <tr style=\"text-align: right;\">\n",
       "      <th></th>\n",
       "      <th>Column</th>\n",
       "      <th>QuestionText</th>\n",
       "    </tr>\n",
       "  </thead>\n",
       "  <tbody>\n",
       "    <tr>\n",
       "      <th>0</th>\n",
       "      <td>Respondent</td>\n",
       "      <td>Randomized respondent ID number (not in order ...</td>\n",
       "    </tr>\n",
       "    <tr>\n",
       "      <th>1</th>\n",
       "      <td>MainBranch</td>\n",
       "      <td>Which of the following options best describes ...</td>\n",
       "    </tr>\n",
       "    <tr>\n",
       "      <th>2</th>\n",
       "      <td>Hobbyist</td>\n",
       "      <td>Do you code as a hobby?</td>\n",
       "    </tr>\n",
       "    <tr>\n",
       "      <th>3</th>\n",
       "      <td>Age</td>\n",
       "      <td>What is your age (in years)? If you prefer not...</td>\n",
       "    </tr>\n",
       "    <tr>\n",
       "      <th>4</th>\n",
       "      <td>Age1stCode</td>\n",
       "      <td>At what age did you write your first line of c...</td>\n",
       "    </tr>\n",
       "  </tbody>\n",
       "</table>\n",
       "</div>"
      ],
      "text/plain": [
       "       Column                                       QuestionText\n",
       "0  Respondent  Randomized respondent ID number (not in order ...\n",
       "1  MainBranch  Which of the following options best describes ...\n",
       "2    Hobbyist                            Do you code as a hobby?\n",
       "3         Age  What is your age (in years)? If you prefer not...\n",
       "4  Age1stCode  At what age did you write your first line of c..."
      ]
     },
     "execution_count": 3,
     "metadata": {},
     "output_type": "execute_result"
    }
   ],
   "source": [
    "schema.head()"
   ]
  },
  {
   "cell_type": "markdown",
   "metadata": {},
   "source": [
    "#### Question 1\n",
    "\n",
    "**1.** In order to understand how to break into the field, we will look at the **CousinEducation** field.  Use the **schema** dataset to answer this question.  Write a function called **get_description** that takes the **schema dataframe** and the **column** as a string, and returns a string of the description for that column."
   ]
  },
  {
   "cell_type": "code",
   "execution_count": 4,
   "metadata": {},
   "outputs": [
    {
     "data": {
      "text/plain": [
       "'Randomized respondent ID number (not in order of survey response time)'"
      ]
     },
     "execution_count": 4,
     "metadata": {},
     "output_type": "execute_result"
    }
   ],
   "source": [
    "def get_description(column_name, schema=schema):\n",
    "    '''\n",
    "    INPUT - schema - pandas dataframe with the schema of the developers survey\n",
    "            column_name - string - the name of the column you would like to know about\n",
    "    OUTPUT - \n",
    "            desc - string - the description of the column\n",
    "    '''\n",
    "    desc = list(schema[schema['Column'] == column_name]['QuestionText'])[0]\n",
    "    return desc\n",
    "\n",
    "#test your code\n",
    "#Check your function against solution - you shouldn't need to change any of the below code\n",
    "get_description(df.columns[0]) # This should return a string of the first column description"
   ]
  },
  {
   "cell_type": "markdown",
   "metadata": {},
   "source": [
    "The question we have been focused on has been around how to break into the field.  Use your **get_description** function below to take a closer look at the **CousinEducation** column."
   ]
  },
  {
   "cell_type": "code",
   "execution_count": 5,
   "metadata": {},
   "outputs": [
    {
     "data": {
      "text/plain": [
       "'At what age did you write your first line of code or program? (e.g., webpage, Hello World, Scratch project)'"
      ]
     },
     "execution_count": 5,
     "metadata": {},
     "output_type": "execute_result"
    }
   ],
   "source": [
    "get_description('')"
   ]
  },
  {
   "cell_type": "markdown",
   "metadata": {},
   "source": [
    "#### Question 2\n",
    "\n",
    "**2.** Provide a pandas series of the different **CousinEducation** status values in the dataset.  Store this pandas series in **cous_ed_vals**.  If you are correct, you should see a bar chart of the proportion of individuals in each status.  If it looks terrible, and you get no information from it, then you followed directions.  However, we should clean this up!"
   ]
  },
  {
   "cell_type": "code",
   "execution_count": 6,
   "metadata": {},
   "outputs": [
    {
     "data": {
      "text/plain": [
       "15                      5618\n",
       "14                      5514\n",
       "16                      5463\n",
       "18                      5382\n",
       "12                      5081\n",
       "13                      4187\n",
       "17                      3973\n",
       "10                      3424\n",
       "19                      3120\n",
       "20                      2453\n",
       "11                      2358\n",
       "8                       1624\n",
       "9                       1231\n",
       "21                      1221\n",
       "22                       999\n",
       "7                        978\n",
       "23                       710\n",
       "25                       636\n",
       "24                       577\n",
       "6                        566\n",
       "Younger than 5 years     414\n",
       "5                        368\n",
       "26                       342\n",
       "27                       264\n",
       "28                       246\n",
       "30                       235\n",
       "29                       170\n",
       "32                       107\n",
       "31                        89\n",
       "35                        86\n",
       "                        ... \n",
       "37                        33\n",
       "38                        32\n",
       "36                        30\n",
       "39                        28\n",
       "45                        20\n",
       "50                        18\n",
       "42                        16\n",
       "44                        13\n",
       "Older than 85             13\n",
       "43                        11\n",
       "41                        10\n",
       "47                         8\n",
       "49                         8\n",
       "54                         7\n",
       "46                         6\n",
       "55                         6\n",
       "48                         6\n",
       "51                         4\n",
       "85                         4\n",
       "53                         4\n",
       "58                         3\n",
       "52                         3\n",
       "73                         2\n",
       "56                         2\n",
       "64                         2\n",
       "72                         1\n",
       "83                         1\n",
       "63                         1\n",
       "76                         1\n",
       "68                         1\n",
       "Name: Age1stCode, Length: 63, dtype: int64"
      ]
     },
     "execution_count": 6,
     "metadata": {},
     "output_type": "execute_result"
    }
   ],
   "source": [
    "cous_1st_vals = df.Age1stCode.value_counts()#Provide a pandas series of the counts for each CousinEducation status\n",
    "\n",
    "cous_1st_vals # assure this looks right"
   ]
  },
  {
   "cell_type": "code",
   "execution_count": 8,
   "metadata": {},
   "outputs": [
    {
     "data": {
      "image/png": "[encoded data removed]",
      "text/plain": [
       "<matplotlib.figure.Figure at 0x11f4e1860>"
      ]
     },
     "metadata": {},
     "output_type": "display_data"
    }
   ],
   "source": [
    "# The below should be a bar chart of the proportion of individuals in your ed_vals\n",
    "# if it is set up correctly.\n",
    "\n",
    "(cous_1st_vals/df.shape[0]).plot(kind=\"bar\");\n",
    "plt.title(\"Age 1st Code\");"
   ]
  },
  {
   "cell_type": "markdown",
   "metadata": {},
   "source": [
    "We definitely need to clean this.  Above is an example of what happens when you do not clean your data. Below I am using the same code you saw in the earlier video to take a look at the data after it has been cleaned."
   ]
  },
  {
   "cell_type": "code",
   "execution_count": 10,
   "metadata": {},
   "outputs": [
    {
     "ename": "NameError",
     "evalue": "name 't' is not defined",
     "output_type": "error",
     "traceback": [
      "\u001b[0;31m---------------------------------------------------------------------------\u001b[0m",
      "\u001b[0;31mNameError\u001b[0m                                 Traceback (most recent call last)",
      "\u001b[0;32m<ipython-input-10-d0d0ee15f0f0>\u001b[0m in \u001b[0;36m<module>\u001b[0;34m()\u001b[0m\n\u001b[1;32m     30\u001b[0m     \u001b[0;32mreturn\u001b[0m \u001b[0mprops_study_df\u001b[0m\u001b[0;34m\u001b[0m\u001b[0m\n\u001b[1;32m     31\u001b[0m \u001b[0;34m\u001b[0m\u001b[0m\n\u001b[0;32m---> 32\u001b[0;31m \u001b[0mprops_df\u001b[0m \u001b[0;34m=\u001b[0m \u001b[0mclean_and_plot\u001b[0m\u001b[0;34m(\u001b[0m\u001b[0mdf\u001b[0m\u001b[0;34m)\u001b[0m\u001b[0;34m\u001b[0m\u001b[0m\n\u001b[0m",
      "\u001b[0;32m<ipython-input-10-d0d0ee15f0f0>\u001b[0m in \u001b[0;36mclean_and_plot\u001b[0;34m(df, title, plot)\u001b[0m\n\u001b[1;32m     20\u001b[0m     \u001b[0mstudy\u001b[0m \u001b[0;34m=\u001b[0m \u001b[0mdf\u001b[0m\u001b[0;34m[\u001b[0m\u001b[0;34m'Age1stCode'\u001b[0m\u001b[0;34m]\u001b[0m\u001b[0;34m.\u001b[0m\u001b[0mvalue_counts\u001b[0m\u001b[0;34m(\u001b[0m\u001b[0;34m)\u001b[0m\u001b[0;34m.\u001b[0m\u001b[0mreset_index\u001b[0m\u001b[0;34m(\u001b[0m\u001b[0;34m)\u001b[0m\u001b[0;34m\u001b[0m\u001b[0m\n\u001b[1;32m     21\u001b[0m     \u001b[0mstudy\u001b[0m\u001b[0;34m.\u001b[0m\u001b[0mrename\u001b[0m\u001b[0;34m(\u001b[0m\u001b[0mcolumns\u001b[0m\u001b[0;34m=\u001b[0m\u001b[0;34m{\u001b[0m\u001b[0;34m'index'\u001b[0m\u001b[0;34m:\u001b[0m \u001b[0;34m'method'\u001b[0m\u001b[0;34m,\u001b[0m \u001b[0;34m'Age1stCode'\u001b[0m\u001b[0;34m:\u001b[0m \u001b[0;34m'count'\u001b[0m\u001b[0;34m}\u001b[0m\u001b[0;34m,\u001b[0m \u001b[0minplace\u001b[0m\u001b[0;34m=\u001b[0m\u001b[0;32mTrue\u001b[0m\u001b[0;34m)\u001b[0m\u001b[0;34m\u001b[0m\u001b[0m\n\u001b[0;32m---> 22\u001b[0;31m     \u001b[0mstudy_df\u001b[0m \u001b[0;34m=\u001b[0m \u001b[0mt\u001b[0m\u001b[0;34m.\u001b[0m\u001b[0mtotal_count\u001b[0m\u001b[0;34m(\u001b[0m\u001b[0mstudy\u001b[0m\u001b[0;34m,\u001b[0m \u001b[0;34m'method'\u001b[0m\u001b[0;34m,\u001b[0m \u001b[0;34m'count'\u001b[0m\u001b[0;34m,\u001b[0m \u001b[0mpossible_vals\u001b[0m\u001b[0;34m)\u001b[0m\u001b[0;34m\u001b[0m\u001b[0m\n\u001b[0m\u001b[1;32m     23\u001b[0m \u001b[0;34m\u001b[0m\u001b[0m\n\u001b[1;32m     24\u001b[0m     \u001b[0mstudy_df\u001b[0m\u001b[0;34m.\u001b[0m\u001b[0mset_index\u001b[0m\u001b[0;34m(\u001b[0m\u001b[0;34m'method'\u001b[0m\u001b[0;34m,\u001b[0m \u001b[0minplace\u001b[0m\u001b[0;34m=\u001b[0m\u001b[0;32mTrue\u001b[0m\u001b[0;34m)\u001b[0m\u001b[0;34m\u001b[0m\u001b[0m\n",
      "\u001b[0;31mNameError\u001b[0m: name 't' is not defined"
     ]
    }
   ],
   "source": [
    "\n",
    "possible_vals = [\"Take online courses\", \"Buy books and work through the exercises\", \n",
    "                 \"None of these\", \"Part-time/evening courses\", \"Return to college\",\n",
    "                 \"Contribute to open source\", \"Conferences/meet-ups\", \"Bootcamp\",\n",
    "                 \"Get a job as a QA tester\", \"Participate in online coding competitions\",\n",
    "                 \"Master's degree\", \"Participate in hackathons\", \"Other\"]\n",
    "\n",
    "def clean_and_plot(df, title='Method of Educating Suggested', plot=True):\n",
    "    '''\n",
    "    INPUT \n",
    "        df - a dataframe holding the CousinEducation column\n",
    "        title - string the title of your plot\n",
    "        axis - axis object\n",
    "        plot - bool providing whether or not you want a plot back\n",
    "        \n",
    "    OUTPUT\n",
    "        study_df - a dataframe with the count of how many individuals\n",
    "        Displays a plot of pretty things related to the CousinEducation column.\n",
    "    '''\n",
    "    study = df['Age1stCode'].value_counts().reset_index()\n",
    "    study.rename(columns={'index': 'method', 'Age1stCode': 'count'}, inplace=True)\n",
    "    study_df = t.total_count(study, 'method', 'count', possible_vals)\n",
    "\n",
    "    study_df.set_index('method', inplace=True)\n",
    "    if plot:\n",
    "        (study_df/study_df.sum()).plot(kind='bar', legend=None);\n",
    "        plt.title(title);\n",
    "        plt.show()\n",
    "    props_study_df = study_df/study_df.sum()\n",
    "    return props_study_df\n",
    "    \n",
    "props_df = clean_and_plot(df)"
   ]
  },
  {
   "cell_type": "markdown",
   "metadata": {},
   "source": [
    "#### Question 4\n",
    "\n",
    "**4.** I wonder if some of the individuals might have bias towards their own degrees.  Complete the function below that will apply to the elements of the **FormalEducation** column in **df**. "
   ]
  },
  {
   "cell_type": "code",
   "execution_count": 12,
   "metadata": {},
   "outputs": [
    {
     "data": {
      "text/plain": [
       "0    0\n",
       "1    0\n",
       "2    0\n",
       "3    0\n",
       "4    1\n",
       "Name: FormalEducation, dtype: int64"
      ]
     },
     "execution_count": 12,
     "metadata": {},
     "output_type": "execute_result"
    }
   ],
   "source": [
    "def higher_ed(formal_ed_str):\n",
    "    '''\n",
    "    INPUT\n",
    "        formal_ed_str - a string of one of the values from the Formal Education column\n",
    "    \n",
    "    OUTPUT\n",
    "        return 1 if the string is  in (\"Master's degree\", \"Professional degree\")\n",
    "        return 0 otherwise\n",
    "    \n",
    "    '''\n",
    "    if formal_ed_str in (\"Master's degree\", \"Professional degree\"):\n",
    "        return 1\n",
    "    else:\n",
    "        return 0\n",
    "    \n",
    "\n",
    "df[\"FormalEducation\"].apply(higher_ed)[:5] #Test your function to assure it provides 1 and 0 values for the df"
   ]
  },
  {
   "cell_type": "code",
   "execution_count": 13,
   "metadata": {},
   "outputs": [
    {
     "name": "stdout",
     "output_type": "stream",
     "text": [
      "Nice job!  That's right.  The percentage of individuals in these three groups is 0.2302376714480159.\n"
     ]
    }
   ],
   "source": [
    "# Check your code here\n",
    "df['HigherEd'] = df[\"FormalEducation\"].apply(higher_ed)\n",
    "higher_ed_perc = df['HigherEd'].mean()\n",
    "t.higher_ed_test(higher_ed_perc)"
   ]
  },
  {
   "cell_type": "markdown",
   "metadata": {},
   "source": [
    "#### Question 5\n",
    "\n",
    "**5.** Now we would like to find out if the proportion of individuals who completed one of these three programs feel differently than those that did not. Store a dataframe of only the individual's who had **HigherEd** equal to 1 in **ed_1**.  Similarly, store a dataframe of only the **HigherEd** equal to 0 values in **ed_0**.\n",
    "\n",
    "Notice, you have already created the **HigherEd** column using the check code portion above, so here you only need to subset the dataframe using this newly created column."
   ]
  },
  {
   "cell_type": "code",
   "execution_count": 14,
   "metadata": {},
   "outputs": [
    {
     "name": "stdout",
     "output_type": "stream",
     "text": [
      "4     1\n",
      "6     1\n",
      "7     1\n",
      "9     1\n",
      "14    1\n",
      "Name: HigherEd, dtype: int64\n",
      "0    0\n",
      "1    0\n",
      "2    0\n",
      "3    0\n",
      "5    0\n",
      "Name: HigherEd, dtype: int64\n"
     ]
    }
   ],
   "source": [
    "ed_1 = df[df['HigherEd'] == 1] # Subset df to only those with HigherEd of 1\n",
    "ed_0 = df[df['HigherEd'] == 0] # Subset df to only those with HigherEd of 0\n",
    "\n",
    "\n",
    "print(ed_1['HigherEd'][:5]) #Assure it looks like what you would expect\n",
    "print(ed_0['HigherEd'][:5]) #Assure it looks like what you would expect"
   ]
  },
  {
   "cell_type": "code",
   "execution_count": 15,
   "metadata": {},
   "outputs": [
    {
     "data": {
      "text/html": [
       "<style  type=\"text/css\" >\n",
       "    #T_c9bc199e_b95c_11eb_8172_0242ac120002row0_col2 {\n",
       "            width:  10em;\n",
       "             height:  80%;\n",
       "            background:  linear-gradient(90deg, transparent 0%, transparent 7.4%, #d65f5f 7.4%, #d65f5f 21.8%, transparent 21.8%);\n",
       "        }    #T_c9bc199e_b95c_11eb_8172_0242ac120002row1_col2 {\n",
       "            width:  10em;\n",
       "             height:  80%;\n",
       "            background:  linear-gradient(90deg, transparent 0%, transparent 21.8%, #5fba7d 21.8%, #5fba7d 32.0%, transparent 32.0%);\n",
       "        }    #T_c9bc199e_b95c_11eb_8172_0242ac120002row2_col2 {\n",
       "            width:  10em;\n",
       "             height:  80%;\n",
       "            background:  linear-gradient(90deg, transparent 0%, transparent 9.5%, #d65f5f 9.5%, #d65f5f 21.8%, transparent 21.8%);\n",
       "        }    #T_c9bc199e_b95c_11eb_8172_0242ac120002row3_col2 {\n",
       "            width:  10em;\n",
       "             height:  80%;\n",
       "            background:  linear-gradient(90deg, transparent 0%, transparent 17.2%, #d65f5f 17.2%, #d65f5f 21.8%, transparent 21.8%);\n",
       "        }    #T_c9bc199e_b95c_11eb_8172_0242ac120002row4_col2 {\n",
       "            width:  10em;\n",
       "             height:  80%;\n",
       "            background:  linear-gradient(90deg, transparent 0%, transparent 18.9%, #d65f5f 18.9%, #d65f5f 21.8%, transparent 21.8%);\n",
       "        }    #T_c9bc199e_b95c_11eb_8172_0242ac120002row5_col2 {\n",
       "            width:  10em;\n",
       "             height:  80%;\n",
       "            background:  linear-gradient(90deg, transparent 0%, transparent 21.8%, #5fba7d 21.8%, #5fba7d 22.0%, transparent 22.0%);\n",
       "        }    #T_c9bc199e_b95c_11eb_8172_0242ac120002row6_col2 {\n",
       "            width:  10em;\n",
       "             height:  80%;\n",
       "            background:  linear-gradient(90deg, transparent 0%, transparent 0.2%, #d65f5f 0.2%, #d65f5f 21.8%, transparent 21.8%);\n",
       "        }    #T_c9bc199e_b95c_11eb_8172_0242ac120002row7_col2 {\n",
       "            width:  10em;\n",
       "             height:  80%;\n",
       "            background:  linear-gradient(90deg, transparent 0%, transparent 21.8%, #5fba7d 21.8%, #5fba7d 100.0%, transparent 100.0%);\n",
       "        }    #T_c9bc199e_b95c_11eb_8172_0242ac120002row8_col2 {\n",
       "            width:  10em;\n",
       "             height:  80%;\n",
       "            background:  linear-gradient(90deg, transparent 0%, transparent 21.8%, #5fba7d 21.8%, #5fba7d 30.2%, transparent 30.2%);\n",
       "        }    #T_c9bc199e_b95c_11eb_8172_0242ac120002row9_col2 {\n",
       "            width:  10em;\n",
       "             height:  80%;\n",
       "            background:  linear-gradient(90deg, transparent 0%, transparent 0.0%, #d65f5f 0.0%, #d65f5f 21.8%, transparent 21.8%);\n",
       "        }    #T_c9bc199e_b95c_11eb_8172_0242ac120002row10_col2 {\n",
       "            width:  10em;\n",
       "             height:  80%;\n",
       "            background:  linear-gradient(90deg, transparent 0%, transparent 10.4%, #d65f5f 10.4%, #d65f5f 21.8%, transparent 21.8%);\n",
       "        }    #T_c9bc199e_b95c_11eb_8172_0242ac120002row11_col2 {\n",
       "            width:  10em;\n",
       "             height:  80%;\n",
       "            background:  linear-gradient(90deg, transparent 0%, transparent 10.3%, #d65f5f 10.3%, #d65f5f 21.8%, transparent 21.8%);\n",
       "        }    #T_c9bc199e_b95c_11eb_8172_0242ac120002row12_col2 {\n",
       "            width:  10em;\n",
       "             height:  80%;\n",
       "            background:  linear-gradient(90deg, transparent 0%, transparent 21.8%, #5fba7d 21.8%, #5fba7d 25.6%, transparent 25.6%);\n",
       "        }</style>  \n",
       "<table id=\"T_c9bc199e_b95c_11eb_8172_0242ac120002\" > \n",
       "<thead>    <tr> \n",
       "        <th class=\"blank level0\" ></th> \n",
       "        <th class=\"col_heading level0 col0\" >ed_1_perc</th> \n",
       "        <th class=\"col_heading level0 col1\" >ed_0_perc</th> \n",
       "        <th class=\"col_heading level0 col2\" >Diff_HigherEd_Vals</th> \n",
       "    </tr>    <tr> \n",
       "        <th class=\"index_name level0\" >method</th> \n",
       "        <th class=\"blank\" ></th> \n",
       "        <th class=\"blank\" ></th> \n",
       "        <th class=\"blank\" ></th> \n",
       "    </tr></thead> \n",
       "<tbody>    <tr> \n",
       "        <th id=\"T_c9bc199e_b95c_11eb_8172_0242ac120002level0_row0\" class=\"row_heading level0 row0\" >Take online courses</th> \n",
       "        <td id=\"T_c9bc199e_b95c_11eb_8172_0242ac120002row0_col0\" class=\"data row0 col0\" >0.205361</td> \n",
       "        <td id=\"T_c9bc199e_b95c_11eb_8172_0242ac120002row0_col1\" class=\"data row0 col1\" >0.21009</td> \n",
       "        <td id=\"T_c9bc199e_b95c_11eb_8172_0242ac120002row0_col2\" class=\"data row0 col2\" >-0.00472961</td> \n",
       "    </tr>    <tr> \n",
       "        <th id=\"T_c9bc199e_b95c_11eb_8172_0242ac120002level0_row1\" class=\"row_heading level0 row1\" >Buy books and work through the exercises</th> \n",
       "        <td id=\"T_c9bc199e_b95c_11eb_8172_0242ac120002row1_col0\" class=\"data row1 col0\" >0.163579</td> \n",
       "        <td id=\"T_c9bc199e_b95c_11eb_8172_0242ac120002row1_col1\" class=\"data row1 col1\" >0.160257</td> \n",
       "        <td id=\"T_c9bc199e_b95c_11eb_8172_0242ac120002row1_col2\" class=\"data row1 col2\" >0.00332183</td> \n",
       "    </tr>    <tr> \n",
       "        <th id=\"T_c9bc199e_b95c_11eb_8172_0242ac120002level0_row2\" class=\"row_heading level0 row2\" >Contribute to open source</th> \n",
       "        <td id=\"T_c9bc199e_b95c_11eb_8172_0242ac120002row2_col0\" class=\"data row2 col0\" >0.106031</td> \n",
       "        <td id=\"T_c9bc199e_b95c_11eb_8172_0242ac120002row2_col1\" class=\"data row2 col1\" >0.110053</td> \n",
       "        <td id=\"T_c9bc199e_b95c_11eb_8172_0242ac120002row2_col2\" class=\"data row2 col2\" >-0.00402243</td> \n",
       "    </tr>    <tr> \n",
       "        <th id=\"T_c9bc199e_b95c_11eb_8172_0242ac120002level0_row3\" class=\"row_heading level0 row3\" >Part-time/evening courses</th> \n",
       "        <td id=\"T_c9bc199e_b95c_11eb_8172_0242ac120002row3_col0\" class=\"data row3 col0\" >0.101498</td> \n",
       "        <td id=\"T_c9bc199e_b95c_11eb_8172_0242ac120002row3_col1\" class=\"data row3 col1\" >0.103005</td> \n",
       "        <td id=\"T_c9bc199e_b95c_11eb_8172_0242ac120002row3_col2\" class=\"data row3 col2\" >-0.00150699</td> \n",
       "    </tr>    <tr> \n",
       "        <th id=\"T_c9bc199e_b95c_11eb_8172_0242ac120002level0_row4\" class=\"row_heading level0 row4\" >Bootcamp</th> \n",
       "        <td id=\"T_c9bc199e_b95c_11eb_8172_0242ac120002row4_col0\" class=\"data row4 col0\" >0.0731179</td> \n",
       "        <td id=\"T_c9bc199e_b95c_11eb_8172_0242ac120002row4_col1\" class=\"data row4 col1\" >0.0740695</td> \n",
       "        <td id=\"T_c9bc199e_b95c_11eb_8172_0242ac120002row4_col2\" class=\"data row4 col2\" >-0.000951639</td> \n",
       "    </tr>    <tr> \n",
       "        <th id=\"T_c9bc199e_b95c_11eb_8172_0242ac120002level0_row5\" class=\"row_heading level0 row5\" >Return to college</th> \n",
       "        <td id=\"T_c9bc199e_b95c_11eb_8172_0242ac120002row5_col0\" class=\"data row5 col0\" >0.0691762</td> \n",
       "        <td id=\"T_c9bc199e_b95c_11eb_8172_0242ac120002row5_col1\" class=\"data row5 col1\" >0.0691233</td> \n",
       "        <td id=\"T_c9bc199e_b95c_11eb_8172_0242ac120002row5_col2\" class=\"data row5 col2\" >5.29081e-05</td> \n",
       "    </tr>    <tr> \n",
       "        <th id=\"T_c9bc199e_b95c_11eb_8172_0242ac120002level0_row6\" class=\"row_heading level0 row6\" >Conferences/meet-ups</th> \n",
       "        <td id=\"T_c9bc199e_b95c_11eb_8172_0242ac120002row6_col0\" class=\"data row6 col0\" >0.0670083</td> \n",
       "        <td id=\"T_c9bc199e_b95c_11eb_8172_0242ac120002row6_col1\" class=\"data row6 col1\" >0.0740695</td> \n",
       "        <td id=\"T_c9bc199e_b95c_11eb_8172_0242ac120002row6_col2\" class=\"data row6 col2\" >-0.00706122</td> \n",
       "    </tr>    <tr> \n",
       "        <th id=\"T_c9bc199e_b95c_11eb_8172_0242ac120002level0_row7\" class=\"row_heading level0 row7\" >Master's degree</th> \n",
       "        <td id=\"T_c9bc199e_b95c_11eb_8172_0242ac120002row7_col0\" class=\"data row7 col0\" >0.0557745</td> \n",
       "        <td id=\"T_c9bc199e_b95c_11eb_8172_0242ac120002row7_col1\" class=\"data row7 col1\" >0.0302337</td> \n",
       "        <td id=\"T_c9bc199e_b95c_11eb_8172_0242ac120002row7_col2\" class=\"data row7 col2\" >0.0255408</td> \n",
       "    </tr>    <tr> \n",
       "        <th id=\"T_c9bc199e_b95c_11eb_8172_0242ac120002level0_row8\" class=\"row_heading level0 row8\" >Get a job as a QA tester</th> \n",
       "        <td id=\"T_c9bc199e_b95c_11eb_8172_0242ac120002row8_col0\" class=\"data row8 col0\" >0.0508475</td> \n",
       "        <td id=\"T_c9bc199e_b95c_11eb_8172_0242ac120002row8_col1\" class=\"data row8 col1\" >0.0481019</td> \n",
       "        <td id=\"T_c9bc199e_b95c_11eb_8172_0242ac120002row8_col2\" class=\"data row8 col2\" >0.00274557</td> \n",
       "    </tr>    <tr> \n",
       "        <th id=\"T_c9bc199e_b95c_11eb_8172_0242ac120002level0_row9\" class=\"row_heading level0 row9\" >Participate in online coding competitions</th> \n",
       "        <td id=\"T_c9bc199e_b95c_11eb_8172_0242ac120002row9_col0\" class=\"data row9 col0\" >0.0415845</td> \n",
       "        <td id=\"T_c9bc199e_b95c_11eb_8172_0242ac120002row9_col1\" class=\"data row9 col1\" >0.0487202</td> \n",
       "        <td id=\"T_c9bc199e_b95c_11eb_8172_0242ac120002row9_col2\" class=\"data row9 col2\" >-0.00713562</td> \n",
       "    </tr>    <tr> \n",
       "        <th id=\"T_c9bc199e_b95c_11eb_8172_0242ac120002level0_row10\" class=\"row_heading level0 row10\" >Participate in hackathons</th> \n",
       "        <td id=\"T_c9bc199e_b95c_11eb_8172_0242ac120002row10_col0\" class=\"data row10 col0\" >0.0321246</td> \n",
       "        <td id=\"T_c9bc199e_b95c_11eb_8172_0242ac120002row10_col1\" class=\"data row10 col1\" >0.03586</td> \n",
       "        <td id=\"T_c9bc199e_b95c_11eb_8172_0242ac120002row10_col2\" class=\"data row10 col2\" >-0.00373547</td> \n",
       "    </tr>    <tr> \n",
       "        <th id=\"T_c9bc199e_b95c_11eb_8172_0242ac120002level0_row11\" class=\"row_heading level0 row11\" >Other</th> \n",
       "        <td id=\"T_c9bc199e_b95c_11eb_8172_0242ac120002row11_col0\" class=\"data row11 col0\" >0.0244383</td> \n",
       "        <td id=\"T_c9bc199e_b95c_11eb_8172_0242ac120002row11_col1\" class=\"data row11 col1\" >0.0281934</td> \n",
       "        <td id=\"T_c9bc199e_b95c_11eb_8172_0242ac120002row11_col2\" class=\"data row11 col2\" >-0.00375508</td> \n",
       "    </tr>    <tr> \n",
       "        <th id=\"T_c9bc199e_b95c_11eb_8172_0242ac120002level0_row12\" class=\"row_heading level0 row12\" >None of these</th> \n",
       "        <td id=\"T_c9bc199e_b95c_11eb_8172_0242ac120002row12_col0\" class=\"data row12 col0\" >0.00945999</td> \n",
       "        <td id=\"T_c9bc199e_b95c_11eb_8172_0242ac120002row12_col1\" class=\"data row12 col1\" >0.00822307</td> \n",
       "        <td id=\"T_c9bc199e_b95c_11eb_8172_0242ac120002row12_col2\" class=\"data row12 col2\" >0.00123692</td> \n",
       "    </tr></tbody> \n",
       "</table> "
      ],
      "text/plain": [
       "<pandas.io.formats.style.Styler at 0x7fc131183438>"
      ]
     },
     "execution_count": 15,
     "metadata": {},
     "output_type": "execute_result"
    }
   ],
   "source": [
    "#Check your subset is correct - you should get a plot that was created using pandas styling\n",
    "#which you can learn more about here: https://pandas.pydata.org/pandas-docs/stable/style.html\n",
    "\n",
    "ed_1_perc = clean_and_plot(ed_1, 'Higher Formal Education', plot=False)\n",
    "ed_0_perc = clean_and_plot(ed_0, 'Max of Bachelors Higher Ed', plot=False)\n",
    "\n",
    "comp_df = pd.merge(ed_1_perc, ed_0_perc, left_index=True, right_index=True)\n",
    "comp_df.columns = ['ed_1_perc', 'ed_0_perc']\n",
    "comp_df['Diff_HigherEd_Vals'] = comp_df['ed_1_perc'] - comp_df['ed_0_perc']\n",
    "comp_df.style.bar(subset=['Diff_HigherEd_Vals'], align='mid', color=['#d65f5f', '#5fba7d'])"
   ]
  },
  {
   "cell_type": "markdown",
   "metadata": {},
   "source": [
    "#### Question 6\n",
    "\n",
    "**6.** What can you conclude from the above plot?  Change the dictionary to mark **True** for the keys of any statements you can conclude, and **False** for any of the statements you cannot conclude."
   ]
  },
  {
   "cell_type": "code",
   "execution_count": null,
   "metadata": {
    "collapsed": true
   },
   "outputs": [],
   "source": [
    "sol = {'Everyone should get a higher level of formal education': False, \n",
    "       'Regardless of formal education, online courses are the top suggested form of education': True,\n",
    "       'There is less than a 1% difference between suggestions of the two groups for all forms of education': False,\n",
    "       'Those with higher formal education suggest it more than those who do not have it': True}\n",
    "\n",
    "t.conclusions(sol)"
   ]
  },
  {
   "cell_type": "markdown",
   "metadata": {},
   "source": [
    "This concludes another look at the way we could compare education methods by those currently writing code in industry."
   ]
  },
  {
   "cell_type": "code",
   "execution_count": null,
   "metadata": {
    "collapsed": true
   },
   "outputs": [],
   "source": []
  }
 ],
 "metadata": {
  "kernelspec": {
   "display_name": "Python [default]",
   "language": "python",
   "name": "python3"
  },
  "language_info": {
   "codemirror_mode": {
    "name": "ipython",
    "version": 3
   },
   "file_extension": ".py",
   "mimetype": "text/x-python",
   "name": "python",
   "nbconvert_exporter": "python",
   "pygments_lexer": "ipython3",
   "version": "3.5.3"
  }
 },
 "nbformat": 4,
 "nbformat_minor": 2
}
